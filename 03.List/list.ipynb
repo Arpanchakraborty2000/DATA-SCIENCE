{
 "cells": [
  {
   "cell_type": "code",
   "execution_count": 3,
   "metadata": {},
   "outputs": [
    {
     "name": "stdout",
     "output_type": "stream",
     "text": [
      "LIST\n"
     ]
    }
   ],
   "source": [
    "print(\"LIST\")"
   ]
  },
  {
   "cell_type": "code",
   "execution_count": null,
   "metadata": {},
   "outputs": [
    {
     "name": "stdout",
     "output_type": "stream",
     "text": [
      "<class 'list'>\n"
     ]
    }
   ],
   "source": [
    "## list creation\n",
    "lst= []\n",
    "print(type(lst))"
   ]
  },
  {
   "cell_type": "code",
   "execution_count": 7,
   "metadata": {},
   "outputs": [
    {
     "name": "stdout",
     "output_type": "stream",
     "text": [
      "['Arpan', 'Abhik', 'Ram']\n"
     ]
    }
   ],
   "source": [
    "## List data injection\n",
    "\n",
    "lst = [\"Arpan\",\"Abhik\",\"Ram\"]\n",
    "print(lst)"
   ]
  },
  {
   "cell_type": "code",
   "execution_count": 9,
   "metadata": {},
   "outputs": [
    {
     "name": "stdout",
     "output_type": "stream",
     "text": [
      "['Arpan', 'Abhik', 'Ram', 1, 2, 3, 4, 5, 6, 7, 8, 9, 10]\n"
     ]
    }
   ],
   "source": [
    "mixedlst = [\"Arpan\",\"Abhik\",\"Ram\",1,2,3,4,5,6,7,8,9,10]\n",
    "print(mixedlst)"
   ]
  },
  {
   "cell_type": "code",
   "execution_count": 10,
   "metadata": {},
   "outputs": [
    {
     "name": "stdout",
     "output_type": "stream",
     "text": [
      "[1, 'Arpan', 9.8, True]\n"
     ]
    }
   ],
   "source": [
    "mixedlst= [1,\"Arpan\",9.8,True]\n",
    "print(mixedlst)"
   ]
  },
  {
   "cell_type": "code",
   "execution_count": 16,
   "metadata": {},
   "outputs": [
    {
     "name": "stdout",
     "output_type": "stream",
     "text": [
      "apple\n",
      "guava\n",
      "cherry\n",
      "mango\n",
      "banana\n",
      "-1 always indicate last element in the list ->  banana\n",
      "this will print 1 to end index value ->  ['guava', 'cherry', 'mango', 'banana']\n",
      "this will print 1 to 3rd index value ->  ['guava', 'cherry']\n"
     ]
    }
   ],
   "source": [
    "lst = [\"apple\",\"guava\",\"cherry\",\"mango\",\"banana\"]\n",
    "\n",
    "print(lst[0])\n",
    "print(lst[1])\n",
    "print(lst[2])\n",
    "print(lst[3])\n",
    "print(lst[4])\n",
    "\n",
    "print(\"-1 always indicate last element in the list -> \",lst[-1])  ## -1 always indicate last element in the list\n",
    "\n",
    "print(\"this will print 1 to end index value -> \",lst[1: ]) ## this will print 1 to end index value \n",
    "\n",
    "print (\"this will print 1 to 3rd index value -> \",lst[1:3]) ## this will print 1 to 3rd index value "
   ]
  },
  {
   "cell_type": "code",
   "execution_count": 18,
   "metadata": {},
   "outputs": [
    {
     "name": "stdout",
     "output_type": "stream",
     "text": [
      "['apple', 'Watermelon', 'cherry', 'mango', 'banana']\n"
     ]
    }
   ],
   "source": [
    "lst = [\"apple\",\"guava\",\"cherry\",\"mango\",\"banana\"]\n",
    "lst[1]=\"Watermelon\" ## change the value with 1th index \n",
    "print(lst)"
   ]
  },
  {
   "cell_type": "code",
   "execution_count": null,
   "metadata": {},
   "outputs": [
    {
     "name": "stdout",
     "output_type": "stream",
     "text": [
      "['apple', 'guava', 'cherry', 'mango', 'banana', 'guava']\n",
      "['apple', 'orage', 'guava', 'cherry', 'mango', 'banana', 'guava']\n",
      "['apple', 'guava', 'cherry', 'mango', 'banana', 'guava']\n"
     ]
    }
   ],
   "source": [
    "lst = [\"apple\",\"guava\",\"cherry\",\"mango\",\"banana\"]\n",
    "\n",
    "lst.append(\"guava\") ## this will add the value in last index \n",
    "\n",
    "print(lst)\n",
    "\n",
    "lst.insert(1,\"orage\") ## this will add the value in 1th index\n",
    "print(lst)\n",
    "\n",
    "lst.remove(\"orage\") ## this will remove the element in value wise \n",
    "print(lst)"
   ]
  },
  {
   "cell_type": "code",
   "execution_count": 25,
   "metadata": {},
   "outputs": [
    {
     "data": {
      "text/plain": [
       "[0, 1, 4, 9, 16, 25]"
      ]
     },
     "execution_count": 25,
     "metadata": {},
     "output_type": "execute_result"
    }
   ],
   "source": [
    "num = [0,1,2,3,5,6,8,9]\n",
    "\n",
    "[x**2 for x in range(6)]"
   ]
  }
 ],
 "metadata": {
  "kernelspec": {
   "display_name": "venv",
   "language": "python",
   "name": "python3"
  },
  "language_info": {
   "codemirror_mode": {
    "name": "ipython",
    "version": 3
   },
   "file_extension": ".py",
   "mimetype": "text/x-python",
   "name": "python",
   "nbconvert_exporter": "python",
   "pygments_lexer": "ipython3",
   "version": "3.12.11"
  }
 },
 "nbformat": 4,
 "nbformat_minor": 2
}
