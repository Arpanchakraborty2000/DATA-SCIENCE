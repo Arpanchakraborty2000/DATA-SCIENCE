{
 "cells": [
  {
   "cell_type": "code",
   "execution_count": 1,
   "metadata": {},
   "outputs": [
    {
     "name": "stdout",
     "output_type": "stream",
     "text": [
      "Tuple\n"
     ]
    }
   ],
   "source": [
    "print(\"Tuple\")"
   ]
  },
  {
   "cell_type": "code",
   "execution_count": 2,
   "metadata": {},
   "outputs": [
    {
     "name": "stdout",
     "output_type": "stream",
     "text": [
      "()\n",
      "<class 'tuple'>\n"
     ]
    }
   ],
   "source": [
    "tuple=()\n",
    "print(tuple)\n",
    "print(type(tuple))"
   ]
  },
  {
   "cell_type": "code",
   "execution_count": 8,
   "metadata": {},
   "outputs": [
    {
     "name": "stdout",
     "output_type": "stream",
     "text": [
      "<class 'list'>\n",
      "<class 'tuple'>\n",
      "<class 'tuple'>\n"
     ]
    }
   ],
   "source": [
    "# If tuple was accidentally overwritten, delete it\n",
    "try:\n",
    "    del tuple\n",
    "except:\n",
    "    pass\n",
    "\n",
    "# Now safe to use\n",
    "my_lst = list()\n",
    "print(type(my_lst))   # <class 'list'>\n",
    "\n",
    "my_tlp = tuple()\n",
    "print(type(my_tlp))   # <class 'tuple'>\n",
    "\n",
    "numbers = (1, 2, 3)\n",
    "print(type(numbers))  # <class 'tuple'>\n"
   ]
  },
  {
   "cell_type": "code",
   "execution_count": 10,
   "metadata": {},
   "outputs": [
    {
     "name": "stdout",
     "output_type": "stream",
     "text": [
      "(1, 2, 3, 4, 5)\n",
      "<class 'tuple'>\n"
     ]
    }
   ],
   "source": [
    "number = tuple([1,2,3,4,5])\n",
    "print(number)\n",
    "print(type(number))"
   ]
  },
  {
   "cell_type": "code",
   "execution_count": 13,
   "metadata": {},
   "outputs": [
    {
     "name": "stdout",
     "output_type": "stream",
     "text": [
      "('Arpan', 1, 5.7, True)\n",
      "<class 'tuple'>\n"
     ]
    }
   ],
   "source": [
    "mixed_tuple= (\"Arpan\",1, 5.7, True)\n",
    "print(mixed_tuple)\n",
    "print(type(mixed_tuple))"
   ]
  },
  {
   "cell_type": "code",
   "execution_count": null,
   "metadata": {},
   "outputs": [
    {
     "name": "stdout",
     "output_type": "stream",
     "text": [
      "(1, 2, 34, 5, 67, 8, 9)\n",
      "2\n",
      "67\n",
      "9\n",
      "(1, 2, 34, 5)\n",
      "(9, 8, 67, 5, 34, 2, 1)\n"
     ]
    }
   ],
   "source": [
    "number =(1,2,34,5,67,8,9)\n",
    "print(number)\n",
    "print(number[1])\n",
    "print(number[4])\n",
    "print(number[-1])  ## print lst elemnt \n",
    "print(number[0:4])\n",
    "print(number[::-1])   ### print in reverse "
   ]
  },
  {
   "cell_type": "code",
   "execution_count": 22,
   "metadata": {},
   "outputs": [
    {
     "name": "stdout",
     "output_type": "stream",
     "text": [
      "('Arpan', 1, 5.7, True, 1, 2, 34, 5, 67, 8, 9)\n"
     ]
    }
   ],
   "source": [
    "concatination=mixed_tuple + number\n",
    "print(concatination)"
   ]
  },
  {
   "cell_type": "code",
   "execution_count": 24,
   "metadata": {},
   "outputs": [
    {
     "data": {
      "text/plain": [
       "('Arpan', 1, 5.7, True, 'Arpan', 1, 5.7, True, 'Arpan', 1, 5.7, True)"
      ]
     },
     "execution_count": 24,
     "metadata": {},
     "output_type": "execute_result"
    }
   ],
   "source": [
    "mixed_tuple * 3  ## tuple  print 3 time \n"
   ]
  },
  {
   "cell_type": "code",
   "execution_count": 26,
   "metadata": {},
   "outputs": [
    {
     "data": {
      "text/plain": [
       "(1, 2, 34, 5, 67, 8, 9, 1, 2, 34, 5, 67, 8, 9, 1, 2, 34, 5, 67, 8, 9)"
      ]
     },
     "execution_count": 26,
     "metadata": {},
     "output_type": "execute_result"
    }
   ],
   "source": [
    "number * 3  ## number print 3 time "
   ]
  },
  {
   "cell_type": "code",
   "execution_count": null,
   "metadata": {},
   "outputs": [
    {
     "name": "stdout",
     "output_type": "stream",
     "text": [
      "(1, 2, 3, 4, 5, 6, 7, 89)\n"
     ]
    },
    {
     "ename": "TypeError",
     "evalue": "'tuple' object does not support item assignment",
     "output_type": "error",
     "traceback": [
      "\u001b[31m---------------------------------------------------------------------------\u001b[39m",
      "\u001b[31mTypeError\u001b[39m                                 Traceback (most recent call last)",
      "\u001b[36mCell\u001b[39m\u001b[36m \u001b[39m\u001b[32mIn[28]\u001b[39m\u001b[32m, line 8\u001b[39m\n\u001b[32m      5\u001b[39m tup = (\u001b[32m1\u001b[39m,\u001b[32m2\u001b[39m,\u001b[32m3\u001b[39m,\u001b[32m4\u001b[39m,\u001b[32m5\u001b[39m,\u001b[32m6\u001b[39m,\u001b[32m7\u001b[39m,\u001b[32m89\u001b[39m)\n\u001b[32m      6\u001b[39m \u001b[38;5;28mprint\u001b[39m(tup)\n\u001b[32m----> \u001b[39m\u001b[32m8\u001b[39m \u001b[43mtup\u001b[49m\u001b[43m[\u001b[49m\u001b[32;43m2\u001b[39;49m\u001b[43m]\u001b[49m=\u001b[32m30\u001b[39m\n",
      "\u001b[31mTypeError\u001b[39m: 'tuple' object does not support item assignment"
     ]
    }
   ],
   "source": [
    "#Immutable nature of tuple \n",
    "## mean element can not change \n",
    "\n",
    "\n",
    "tup = (1,2,3,4,5,6,7,89)\n",
    "print(tup)\n",
    "\n",
    "tup[2]=30 ## can not change the value ... fast convert it to list\n"
   ]
  },
  {
   "cell_type": "code",
   "execution_count": 32,
   "metadata": {},
   "outputs": [
    {
     "name": "stdout",
     "output_type": "stream",
     "text": [
      "1\n",
      "3\n",
      "8\n"
     ]
    }
   ],
   "source": [
    "# tuple method \n",
    "\n",
    "tup = (1,2,3,4,4,4,5,6,7,89)\n",
    "\n",
    "print(tup.count(1)) ## how many time 1 is present\n",
    "print(tup.count(4)) \n",
    "\n",
    "## index told what index value is present \n",
    "\n",
    "\n",
    "print(tup.index(7))  ## which will print the index where present the number 7\n"
   ]
  },
  {
   "cell_type": "code",
   "execution_count": 34,
   "metadata": {},
   "outputs": [
    {
     "name": "stdout",
     "output_type": "stream",
     "text": [
      "('Arpan', 1, 5.7, True)\n"
     ]
    }
   ],
   "source": [
    "# packing and unpacking tuple\n",
    "\n",
    "\n",
    "pack_tup = \"Arpan\",1, 5.7, True\n",
    "\n",
    "print(pack_tup)"
   ]
  },
  {
   "cell_type": "code",
   "execution_count": 37,
   "metadata": {},
   "outputs": [
    {
     "name": "stdout",
     "output_type": "stream",
     "text": [
      "10\n",
      "20\n",
      "30\n"
     ]
    }
   ],
   "source": [
    "# Define a tuple\n",
    "pack_tup = (10, 20, 30)\n",
    "\n",
    "# Unpack the tuple\n",
    "a, b, c = pack_tup\n",
    "\n",
    "# Print values\n",
    "print(a)  # 10\n",
    "print(b)  # 20\n",
    "print(c)  # 30\n"
   ]
  },
  {
   "cell_type": "code",
   "execution_count": 39,
   "metadata": {},
   "outputs": [
    {
     "name": "stdout",
     "output_type": "stream",
     "text": [
      "1\n",
      "[2, 34, 5, 67, 8]\n",
      "9\n"
     ]
    }
   ],
   "source": [
    "## unpacking with *\n",
    "\n",
    "num=(1,2,3,4,5) \n",
    "first,*middle,last=number\n",
    "\n",
    "print(first) ## this will print 1st value \n",
    "print(middle) ## this will print all middle  value \n",
    "print(last) ## this will print last value "
   ]
  },
  {
   "cell_type": "code",
   "execution_count": 44,
   "metadata": {},
   "outputs": [
    {
     "name": "stdout",
     "output_type": "stream",
     "text": [
      "[[1, 2, 3, 4], [6, 7, 8, 9], [10, 11, 12, 13, 14]]\n",
      "[1, 2, 3, 4]\n",
      "3\n",
      "[1, 2, 3]\n"
     ]
    }
   ],
   "source": [
    "## nested list \n",
    "\n",
    "lst = [[1,2,3,4],[6,7,8,9],[10,11,12,13,14]]\n",
    "print(lst)\n",
    "print(lst[0]) ##  this will print 1st list\n",
    "print(lst[0][2]) ## this will print 1st list 2nd index value \n",
    "print(lst[0][:-1])"
   ]
  },
  {
   "cell_type": "code",
   "execution_count": 47,
   "metadata": {},
   "outputs": [
    {
     "name": "stdout",
     "output_type": "stream",
     "text": [
      "[[1, 2, 3, 4], [6, 7, 8, 9], (10, 11, 12, 13, 14)]\n",
      "<class 'list'>\n"
     ]
    }
   ],
   "source": [
    "lst = [[1,2,3,4],[6,7,8,9],(10,11,12,13,14)]\n",
    "print(lst)\n",
    "print(type(lst))  ## if list under tuple also convert in list "
   ]
  },
  {
   "cell_type": "code",
   "execution_count": 52,
   "metadata": {},
   "outputs": [
    {
     "name": "stdout",
     "output_type": "stream",
     "text": [
      "((1, 2, 3, 4), (6, 7, 8, 9), (10, 11, 12, 13, 14))\n",
      "<class 'tuple'>\n",
      "(1, 2, 3, 4)\n",
      "8\n"
     ]
    }
   ],
   "source": [
    "## nested tuple \n",
    "tup = ((1,2,3,4),(6,7,8,9),(10,11,12,13,14))\n",
    "print(tup)\n",
    "print(type(tup))\n",
    "\n",
    "## access elemnt under this nested tuple \n",
    "\n",
    "print(tup[0])\n",
    "print(tup[1][2])"
   ]
  },
  {
   "cell_type": "code",
   "execution_count": null,
   "metadata": {},
   "outputs": [
    {
     "name": "stdout",
     "output_type": "stream",
     "text": [
      "1 2 3 4 \n",
      "6 7 8 9 \n",
      "10 11 12 13 14 \n"
     ]
    }
   ],
   "source": [
    "## itteration of nested tuple ........\n",
    "for i in tup:\n",
    "    for j in i:\n",
    "        print(j,end=\" \")\n",
    "    print()"
   ]
  },
  {
   "cell_type": "code",
   "execution_count": null,
   "metadata": {},
   "outputs": [],
   "source": []
  }
 ],
 "metadata": {
  "kernelspec": {
   "display_name": "venv",
   "language": "python",
   "name": "python3"
  },
  "language_info": {
   "codemirror_mode": {
    "name": "ipython",
    "version": 3
   },
   "file_extension": ".py",
   "mimetype": "text/x-python",
   "name": "python",
   "nbconvert_exporter": "python",
   "pygments_lexer": "ipython3",
   "version": "3.12.11"
  }
 },
 "nbformat": 4,
 "nbformat_minor": 2
}
