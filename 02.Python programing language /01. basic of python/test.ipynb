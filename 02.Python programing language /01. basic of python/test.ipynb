{
 "cells": [
  {
   "cell_type": "code",
   "execution_count": 20,
   "metadata": {},
   "outputs": [
    {
     "name": "stdout",
     "output_type": "stream",
     "text": [
      " Age:  4 \n",
      " Type of age is :  <class 'str'>\n"
     ]
    }
   ],
   "source": [
    "age = (input(\"Enter your age : \"))\n",
    "print(\" Age: \",age ,\"\\n\",\"Type of age is : \",type(age))"
   ]
  },
  {
   "cell_type": "code",
   "execution_count": 1,
   "metadata": {},
   "outputs": [
    {
     "name": "stdout",
     "output_type": "stream",
     "text": [
      "Hii\n"
     ]
    }
   ],
   "source": [
    "print(\"Hii\")"
   ]
  },
  {
   "cell_type": "code",
   "execution_count": 2,
   "metadata": {},
   "outputs": [
    {
     "name": "stdout",
     "output_type": "stream",
     "text": [
      "25.0\n"
     ]
    }
   ],
   "source": [
    "age = 25\n",
    "print(float(age))"
   ]
  },
  {
   "cell_type": "code",
   "execution_count": 3,
   "metadata": {},
   "outputs": [
    {
     "name": "stdout",
     "output_type": "stream",
     "text": [
      "6\n"
     ]
    }
   ],
   "source": [
    "heigt = int(6.1)\n",
    "print(heigt)"
   ]
  },
  {
   "cell_type": "code",
   "execution_count": 4,
   "metadata": {},
   "outputs": [
    {
     "name": "stdout",
     "output_type": "stream",
     "text": [
      "arpan\n",
      "<class 'str'>\n"
     ]
    }
   ],
   "source": [
    "name =\"arpan\"\n",
    "print(name)\n",
    "print(type(name))"
   ]
  },
  {
   "cell_type": "code",
   "execution_count": 5,
   "metadata": {},
   "outputs": [
    {
     "name": "stdout",
     "output_type": "stream",
     "text": [
      "<class 'bool'>\n"
     ]
    }
   ],
   "source": [
    "is_possible= True\n",
    "print(type(is_possible))"
   ]
  },
  {
   "cell_type": "code",
   "execution_count": 6,
   "metadata": {},
   "outputs": [
    {
     "data": {
      "text/plain": [
       "bool"
      ]
     },
     "execution_count": 6,
     "metadata": {},
     "output_type": "execute_result"
    }
   ],
   "source": [
    "is_true=True\n",
    "type(is_possible)"
   ]
  },
  {
   "cell_type": "code",
   "execution_count": 8,
   "metadata": {},
   "outputs": [
    {
     "data": {
      "text/plain": [
       "bool"
      ]
     },
     "execution_count": 8,
     "metadata": {},
     "output_type": "execute_result"
    }
   ],
   "source": [
    "a =10\n",
    "b = 10\n",
    "\n",
    "\n",
    "a == b\n",
    "\n",
    "type(a==b)"
   ]
  },
  {
   "cell_type": "code",
   "execution_count": 10,
   "metadata": {},
   "outputs": [
    {
     "name": "stdout",
     "output_type": "stream",
     "text": [
      "your result is : 95\n"
     ]
    }
   ],
   "source": [
    "## type casting \n",
    "## i type caste the int --> string \n",
    "result = \"your result is : \"+ str(95)\n",
    "\n",
    "print(result)"
   ]
  },
  {
   "cell_type": "code",
   "execution_count": null,
   "metadata": {},
   "outputs": [
    {
     "name": "stdout",
     "output_type": "stream",
     "text": [
      "3\n",
      "759375\n"
     ]
    }
   ],
   "source": [
    "a =10\n",
    "b = 5\n",
    "\n",
    "## floor division \n",
    "e = a/b\n",
    "print(e)\n",
    "c = a // b ## 2 tuime division\n",
    "\n",
    "## Exponential operation \n",
    "\n",
    "d = a ** b ## a power b \n",
    "\n",
    "print(c)\n",
    "print(d)"
   ]
  },
  {
   "cell_type": "code",
   "execution_count": 14,
   "metadata": {},
   "outputs": [
    {
     "data": {
      "text/plain": [
       "5.0"
      ]
     },
     "execution_count": 14,
     "metadata": {},
     "output_type": "execute_result"
    }
   ],
   "source": [
    "height = 5.8\n",
    "int (height) # type casting to int \n",
    "float(int(height)) ## type castint int -> float"
   ]
  },
  {
   "cell_type": "code",
   "execution_count": 11,
   "metadata": {},
   "outputs": [
    {
     "name": "stdout",
     "output_type": "stream",
     "text": [
      "Age : 25  || name : Arpan || Height :  5.8 || Student :  True\n",
      "My name is :  Arpan\n"
     ]
    }
   ],
   "source": [
    "age =25\n",
    "name = \"Arpan\"\n",
    "height = 5.8\n",
    "is_student = True\n",
    "\n",
    "\n",
    "print(\"Age :\",age,\" || name :\",name, \"|| Height : \",height,\"|| Student : \",is_student)\n",
    "print(\"My name is : \",name)"
   ]
  },
  {
   "cell_type": "code",
   "execution_count": 6,
   "metadata": {},
   "outputs": [
    {
     "name": "stdout",
     "output_type": "stream",
     "text": [
      "32\n"
     ]
    }
   ],
   "source": [
    "age = 32 \n",
    "if age > 20:\n",
    "    print(age)"
   ]
  },
  {
   "cell_type": "code",
   "execution_count": 5,
   "metadata": {},
   "outputs": [
    {
     "name": "stdout",
     "output_type": "stream",
     "text": [
      "<class 'str'>\n",
      "<class 'int'>\n"
     ]
    }
   ],
   "source": [
    "var = \"Arpan\"\n",
    "print(type(var))\n",
    "var=21\n",
    "print(type(var))"
   ]
  },
  {
   "cell_type": "code",
   "execution_count": 3,
   "metadata": {},
   "outputs": [
    {
     "name": "stdout",
     "output_type": "stream",
     "text": [
      "Arpan\n"
     ]
    }
   ],
   "source": [
    "print(\"Arpan\")\n"
   ]
  }
 ],
 "metadata": {
  "kernelspec": {
   "display_name": "Python 3",
   "language": "python",
   "name": "python3"
  },
  "language_info": {
   "codemirror_mode": {
    "name": "ipython",
    "version": 3
   },
   "file_extension": ".py",
   "mimetype": "text/x-python",
   "name": "python",
   "nbconvert_exporter": "python",
   "pygments_lexer": "ipython3",
   "version": "3.12.11"
  }
 },
 "nbformat": 4,
 "nbformat_minor": 2
}
