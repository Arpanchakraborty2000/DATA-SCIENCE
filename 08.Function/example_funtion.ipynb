{
 "cells": [
  {
   "cell_type": "code",
   "execution_count": 2,
   "metadata": {},
   "outputs": [
    {
     "name": "stdout",
     "output_type": "stream",
     "text": [
      "Example of funtions ....\n"
     ]
    }
   ],
   "source": [
    "print(\"Example of funtions ....\")"
   ]
  },
  {
   "cell_type": "code",
   "execution_count": 6,
   "metadata": {},
   "outputs": [
    {
     "name": "stdout",
     "output_type": "stream",
     "text": [
      "77.0\n",
      "-3.888888888888889\n"
     ]
    }
   ],
   "source": [
    "## converting the temparature\n",
    "\n",
    "def convert_temparature(temp,unit):\n",
    "    \"\"\"This funtion convert temparature to celsius to fahrenheit\"\"\"\n",
    "    \n",
    "    if unit == 'c':\n",
    "        return temp *9/5 +32  ## celsius to fahrenheit\n",
    "    elif unit == 'f':\n",
    "        return (temp-32)* 5/9  ## fahrenheit to celsius\n",
    "    else:\n",
    "        return \"you not enter the correct value \"\n",
    "    \n",
    "    \n",
    "print(convert_temparature(25,'c'))\n",
    "print(convert_temparature(25,'f'))"
   ]
  },
  {
   "cell_type": "code",
   "execution_count": 12,
   "metadata": {},
   "outputs": [
    {
     "data": {
      "text/plain": [
       "'This is Strong password '"
      ]
     },
     "execution_count": 12,
     "metadata": {},
     "output_type": "execute_result"
    }
   ],
   "source": [
    "## Password id checker ........\n",
    "\n",
    "def is_strong_password(password):\n",
    "    \"\"\"This funtion is cheek the password is strong or not \"\"\"\n",
    "    if len(password) < 8:\n",
    "        return False\n",
    "    \n",
    "    ## not any is a inbuilt funtion in python . It will check the value is present or not \n",
    "    \n",
    "    if not any(char.isdigit() for char in password):\n",
    "        return False\n",
    "    if not any(char.isupper() for char in password):\n",
    "        return False\n",
    "    if not any(char.islower() for char in password): \n",
    "        return False\n",
    "    if not any(char in \"!@#$%^&*_+\"for char in password):\n",
    "        return False\n",
    "    \n",
    "    \n",
    "    return \"This is Strong password \"\n",
    "\n",
    "\n",
    "is_strong_password(\"Arpan@8910\")\n",
    "    \n",
    "    \n",
    "    "
   ]
  },
  {
   "cell_type": "code",
   "execution_count": 15,
   "metadata": {},
   "outputs": [
    {
     "name": "stdout",
     "output_type": "stream",
     "text": [
      "Total Cost: 12.9\n"
     ]
    }
   ],
   "source": [
    "def calculate_total_cost(cart):\n",
    "    total_cost = 0\n",
    "    for item in cart:\n",
    "        price = float(item['price'])       # convert string to float\n",
    "        quantity = int(item['quantity'])   # convert string to int\n",
    "        total_cost += price * quantity\n",
    "    return total_cost\n",
    "\n",
    "\n",
    "# Example dataset\n",
    "cart = [\n",
    "    {'name': 'Apple', 'price': '0.5', 'quantity': '4'},\n",
    "    {'name': 'banana', 'price': '0.4', 'quantity': '7'},\n",
    "    {'name': 'orange', 'price': '0.9', 'quantity': '9'}\n",
    "]\n",
    "\n",
    "# Calling the function\n",
    "total_cost = calculate_total_cost(cart)\n",
    "print(\"Total Cost:\", total_cost)\n"
   ]
  },
  {
   "cell_type": "code",
   "execution_count": null,
   "metadata": {},
   "outputs": [],
   "source": []
  },
  {
   "cell_type": "code",
   "execution_count": null,
   "metadata": {},
   "outputs": [],
   "source": []
  },
  {
   "cell_type": "code",
   "execution_count": null,
   "metadata": {},
   "outputs": [],
   "source": []
  }
 ],
 "metadata": {
  "kernelspec": {
   "display_name": "venv",
   "language": "python",
   "name": "python3"
  },
  "language_info": {
   "codemirror_mode": {
    "name": "ipython",
    "version": 3
   },
   "file_extension": ".py",
   "mimetype": "text/x-python",
   "name": "python",
   "nbconvert_exporter": "python",
   "pygments_lexer": "ipython3",
   "version": "3.12.11"
  }
 },
 "nbformat": 4,
 "nbformat_minor": 2
}
