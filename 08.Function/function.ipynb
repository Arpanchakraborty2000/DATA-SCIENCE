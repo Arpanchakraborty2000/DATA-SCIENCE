{
 "cells": [
  {
   "cell_type": "code",
   "execution_count": 2,
   "metadata": {},
   "outputs": [
    {
     "name": "stdout",
     "output_type": "stream",
     "text": [
      "funtion\n"
     ]
    }
   ],
   "source": [
    "print(\"funtion\")"
   ]
  },
  {
   "cell_type": "code",
   "execution_count": 3,
   "metadata": {},
   "outputs": [],
   "source": [
    "# funtion syntax\n",
    "def function_name(parameter):\n",
    "    \"Docsting\"\n",
    "    ## funtion body\n",
    "    return expression"
   ]
  },
  {
   "cell_type": "code",
   "execution_count": 5,
   "metadata": {},
   "outputs": [],
   "source": [
    "def odd_even(num):\n",
    "    if num%2 ==0:\n",
    "        print(\"This is even number\")\n",
    "    else:\n",
    "        print(\"This is odd number\")"
   ]
  },
  {
   "cell_type": "code",
   "execution_count": 7,
   "metadata": {},
   "outputs": [
    {
     "name": "stdout",
     "output_type": "stream",
     "text": [
      "This is even number\n"
     ]
    }
   ],
   "source": [
    "## finction Calling \n",
    "odd_even(24)"
   ]
  },
  {
   "cell_type": "code",
   "execution_count": 9,
   "metadata": {},
   "outputs": [
    {
     "name": "stdout",
     "output_type": "stream",
     "text": [
      "8\n"
     ]
    }
   ],
   "source": [
    "## Funtion with multiple paramiter\n",
    "\n",
    "def add(a,b):\n",
    "    return a+b\n",
    "\n",
    "\n",
    "result = add(4,4)\n",
    "print(result)\n"
   ]
  },
  {
   "cell_type": "code",
   "execution_count": 12,
   "metadata": {},
   "outputs": [
    {
     "name": "stdout",
     "output_type": "stream",
     "text": [
      "Hello Guest, welcome to this house\n",
      "Hello Arpan, welcome to this house\n"
     ]
    }
   ],
   "source": [
    "## Default parameters\n",
    "\n",
    "def greet(name=\"Guest\"): ## declaration of default parameter\n",
    "    print(f\"Hello {name}, welcome to this house\")\n",
    "    \n",
    "greet() ## calling the default parameter\n",
    "greet(\"Arpan\") ## calling with parameter"
   ]
  },
  {
   "cell_type": "code",
   "execution_count": null,
   "metadata": {},
   "outputs": [
    {
     "name": "stdout",
     "output_type": "stream",
     "text": [
      "1\n",
      "2\n",
      "3\n",
      "4\n",
      "5\n",
      "6\n",
      "7\n",
      "8\n",
      "9\n",
      "Arpan\n"
     ]
    }
   ],
   "source": [
    "## variable lenth argument\n",
    "## positional and keyword argument \n",
    "\n",
    "## positional argument \n",
    "def print_number(*args):\n",
    "    for number in args:\n",
    "        print(number)\n",
    "        \n",
    "print_number(1,2,3,4,5,6,7,8,9,\"Arpan\")  ## this all value refer to *args"
   ]
  },
  {
   "cell_type": "code",
   "execution_count": 18,
   "metadata": {},
   "outputs": [
    {
     "name": "stdout",
     "output_type": "stream",
     "text": [
      "Name:arpan\n",
      "age:25\n",
      "country:India\n"
     ]
    }
   ],
   "source": [
    "## Keyword argument....\n",
    "\n",
    "def print_detils(**kargs):\n",
    "    for key,value in kargs.items():\n",
    "        print(f\"{key}:{value}\")\n",
    "        \n",
    "print_detils(Name = \"arpan\",age=25,country=\"India\")"
   ]
  },
  {
   "cell_type": "code",
   "execution_count": null,
   "metadata": {},
   "outputs": [
    {
     "name": "stdout",
     "output_type": "stream",
     "text": [
      "Positional arguments :  1\n",
      "Positional arguments :  2\n",
      "Positional arguments :  3\n",
      "Positional arguments :  4\n",
      "Positional arguments :  5\n",
      "Positional arguments :  6\n",
      "Positional arguments :  7\n",
      "Positional arguments :  8\n",
      "Positional arguments :  9\n",
      "Positional arguments :  Arpan\n",
      "Name:arpan\n",
      "age:25\n",
      "country:India\n"
     ]
    }
   ],
   "source": [
    "## positional + keyword commaind a function\n",
    "\n",
    "def print_number(*args,**kargs):\n",
    "    for number in args:\n",
    "        print(\"Positional arguments : \",number)\n",
    "    for key,value in kargs.items():\n",
    "        print(f\"{key}:{value}\")\n",
    "        \n",
    "        \n",
    "## in this type of join arguments always fast declare positional arguments then keyword argumants \n",
    "print_number(1,2,3,4,5,6,7,8,9,\"Arpan\",Name = \"arpan\",age=25,country=\"India\")"
   ]
  },
  {
   "cell_type": "code",
   "execution_count": 21,
   "metadata": {},
   "outputs": [
    {
     "data": {
      "text/plain": [
       "6"
      ]
     },
     "execution_count": 21,
     "metadata": {},
     "output_type": "execute_result"
    }
   ],
   "source": [
    "## return statement \n",
    "\n",
    "def multiply(a,b):\n",
    "    return a*b\n",
    "\n",
    "\n",
    "multiply(2,3)"
   ]
  },
  {
   "cell_type": "code",
   "execution_count": null,
   "metadata": {},
   "outputs": [
    {
     "data": {
      "text/plain": [
       "(6, 2)"
      ]
     },
     "execution_count": 22,
     "metadata": {},
     "output_type": "execute_result"
    }
   ],
   "source": [
    "## return statement \n",
    "\n",
    "def multiply(a,b):\n",
    "    return a*b,a  ## return multiple funtion\n",
    "\n",
    "\n",
    "multiply(2,3)"
   ]
  }
 ],
 "metadata": {
  "kernelspec": {
   "display_name": "venv",
   "language": "python",
   "name": "python3"
  },
  "language_info": {
   "codemirror_mode": {
    "name": "ipython",
    "version": 3
   },
   "file_extension": ".py",
   "mimetype": "text/x-python",
   "name": "python",
   "nbconvert_exporter": "python",
   "pygments_lexer": "ipython3",
   "version": "3.12.11"
  }
 },
 "nbformat": 4,
 "nbformat_minor": 2
}
