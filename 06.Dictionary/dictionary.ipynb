{
 "cells": [
  {
   "cell_type": "code",
   "execution_count": 2,
   "metadata": {},
   "outputs": [
    {
     "name": "stdout",
     "output_type": "stream",
     "text": [
      "Dictionary\n"
     ]
    }
   ],
   "source": [
    "print(\"Dictionary\")"
   ]
  },
  {
   "cell_type": "code",
   "execution_count": 4,
   "metadata": {},
   "outputs": [
    {
     "name": "stdout",
     "output_type": "stream",
     "text": [
      "<class 'dict'>\n"
     ]
    }
   ],
   "source": [
    "## creating dictionary\n",
    "\n",
    "empty_dict={}\n",
    "print(type(empty_dict))"
   ]
  },
  {
   "cell_type": "code",
   "execution_count": 8,
   "metadata": {},
   "outputs": [
    {
     "name": "stdout",
     "output_type": "stream",
     "text": [
      "<class 'dict'>\n"
     ]
    }
   ],
   "source": [
    "## Another way to creating dict\n",
    "\n",
    "empty_dict=dict()\n",
    "print(type(empty_dict))"
   ]
  },
  {
   "cell_type": "code",
   "execution_count": 10,
   "metadata": {},
   "outputs": [
    {
     "name": "stdout",
     "output_type": "stream",
     "text": [
      "{'Name': 'Arpan', 'Age': '25', 'Grade': 'A'}\n",
      "<class 'dict'>\n"
     ]
    }
   ],
   "source": [
    "## Dict  exeample \n",
    "student = {\"Name\":\"Arpan\",\"Age\":\"25\",\"Grade\":\"A\"}\n",
    "print(student)\n",
    "print(type(student))"
   ]
  },
  {
   "cell_type": "code",
   "execution_count": null,
   "metadata": {},
   "outputs": [
    {
     "name": "stdout",
     "output_type": "stream",
     "text": [
      "{'Name': 'A', 'Age': '25'}\n"
     ]
    }
   ],
   "source": [
    "## key value pair always will unique \n",
    "\n",
    "student = {\"Name\":\"Arpan\",\"Age\":\"25\",\"Name\":\"A\"} ## in this case name value shoud replace to current value \n",
    "print(student) "
   ]
  },
  {
   "cell_type": "code",
   "execution_count": 13,
   "metadata": {},
   "outputs": [
    {
     "name": "stdout",
     "output_type": "stream",
     "text": [
      "25\n",
      "Arpan\n",
      "A\n"
     ]
    }
   ],
   "source": [
    "## accessing dict element \n",
    "student = {\"Name\":\"Arpan\",\"Age\":\"25\",\"Grade\":\"A\"}\n",
    "print(student[\"Age\"])\n",
    "print(student[\"Name\"])\n",
    "print(student[\"Grade\"])"
   ]
  },
  {
   "cell_type": "code",
   "execution_count": null,
   "metadata": {},
   "outputs": [
    {
     "name": "stdout",
     "output_type": "stream",
     "text": [
      "A\n",
      "Arpan\n",
      "25\n"
     ]
    }
   ],
   "source": [
    "## accessing dict element  USing Get method\n",
    "\n",
    "student = {\"Name\":\"Arpan\",\"Age\":\"25\",\"Grade\":\"A\"}\n",
    "print(student.get(\"Grade\"))\n",
    "print(student.get(\"Name\"))\n",
    "print(student.get(\"Age\"))\n",
    "\n"
   ]
  },
  {
   "cell_type": "code",
   "execution_count": 18,
   "metadata": {},
   "outputs": [
    {
     "name": "stdout",
     "output_type": "stream",
     "text": [
      "{'Name': 'Arpan', 'Age': '25', 'Grade': 'A'}\n",
      "{'Name': 'Arpan', 'Age': 30, 'Grade': 'A'}\n",
      "{'Name': 'Arpan', 'Age': 30, 'Grade': 'A', 'Address': 'India'}\n"
     ]
    }
   ],
   "source": [
    "## Modify dict element \n",
    "student = {\"Name\":\"Arpan\",\"Age\":\"25\",\"Grade\":\"A\"}\n",
    "print(student)\n",
    "\n",
    "student[\"Age\"]=30\n",
    "print(student)\n",
    "\n",
    "## add element in dict\n",
    "\n",
    "student[\"Address\"]=\"India\"\n",
    "\n",
    "print(student)\n"
   ]
  },
  {
   "cell_type": "code",
   "execution_count": 19,
   "metadata": {},
   "outputs": [
    {
     "name": "stdout",
     "output_type": "stream",
     "text": [
      "{'Name': 'Arpan', 'Age': 30, 'Address': 'India'}\n"
     ]
    }
   ],
   "source": [
    "## delete the element \n",
    "\n",
    "del student[\"Grade\"]\n",
    "print(student)"
   ]
  },
  {
   "cell_type": "code",
   "execution_count": null,
   "metadata": {},
   "outputs": [
    {
     "name": "stdout",
     "output_type": "stream",
     "text": [
      "dict_keys(['name', 'age', 'course'])\n",
      "dict_values(['Arpan', 24, 'Data Science'])\n",
      "dict_items([('name', 'Arpan'), ('age', 24), ('course', 'Data Science')])\n",
      "{'name': 'Arpan', 'age': 24, 'course': 'Data Science'}\n"
     ]
    }
   ],
   "source": [
    "## get all the key \n",
    "# define a dictionary\n",
    "student = {\n",
    "    \"name\": \"Arpan\",\n",
    "    \"age\": 24,\n",
    "    \"course\": \"Data Science\"\n",
    "}\n",
    "\n",
    "# get all keys\n",
    "val = student.keys()\n",
    "print(val)   # dict_keys(['name', 'age', 'course'])\n",
    "\n",
    "all_val =student.values()    ## it will print only value \n",
    "print(all_val)\n",
    "\n",
    "items  = student.items()  ## print sll the vslue pair\n",
    "print(items)\n",
    "\n",
    "copy_student = student\n",
    "print(copy_student)  ## it will print all copy the value \n"
   ]
  },
  {
   "cell_type": "code",
   "execution_count": 13,
   "metadata": {},
   "outputs": [
    {
     "name": "stdout",
     "output_type": "stream",
     "text": [
      "{'name': 'Arpan', 'age': 24}\n",
      "{'name': 'Arpan', 'age': 24}\n",
      "-----------------------------------------------------\n",
      "{'name': 'Arpan', 'age': 24}\n",
      "{'name': 'Arpan_new', 'age': 24}\n"
     ]
    }
   ],
   "source": [
    "student = {\"name\": \"Arpan\", \"age\": 24}\n",
    "\n",
    "student_copy1 = student.copy()\n",
    "\n",
    "print(student_copy1)  # {'name': 'Arpan', 'age': 24}\n",
    "print(student)        # {'name': 'Arpan', 'age': 24}\n",
    "\n",
    "print(\"-----------------------------------------------------\")\n",
    "\n",
    "student[\"name\"] = \"Arpan_new\"\n",
    "\n",
    "print(student_copy1)  # {'name': 'Arpan', 'age': 24}\n",
    "print(student)        # {'name': 'Arpan_new', 'age': 24}\n"
   ]
  },
  {
   "cell_type": "code",
   "execution_count": 15,
   "metadata": {},
   "outputs": [
    {
     "name": "stdout",
     "output_type": "stream",
     "text": [
      "name\n",
      "age\n"
     ]
    }
   ],
   "source": [
    "## Itreting the value in dictionary \n",
    "\n",
    "for keys in student:\n",
    "    print(keys)"
   ]
  },
  {
   "cell_type": "code",
   "execution_count": 19,
   "metadata": {},
   "outputs": [
    {
     "name": "stdout",
     "output_type": "stream",
     "text": [
      "Arpan_new\n",
      "24\n"
     ]
    }
   ],
   "source": [
    "for value in student.values():\n",
    "    print(value)"
   ]
  },
  {
   "cell_type": "code",
   "execution_count": 23,
   "metadata": {},
   "outputs": [
    {
     "name": "stdout",
     "output_type": "stream",
     "text": [
      "{'student1': {'name': 'Arpan', 'age': 24}, 'student2': {'name': 'Abhik', 'age': 30}}\n"
     ]
    }
   ],
   "source": [
    "## Nested dictionary \n",
    "\n",
    "student={\n",
    "    \"student1\": {\"name\": \"Arpan\", \"age\": 24},\n",
    "    \"student2\": {\"name\": \"Abhik\", \"age\": 30}\n",
    "}\n",
    "\n",
    "print(student)"
   ]
  },
  {
   "cell_type": "code",
   "execution_count": 29,
   "metadata": {},
   "outputs": [
    {
     "name": "stdout",
     "output_type": "stream",
     "text": [
      "Arpan\n",
      "24\n"
     ]
    }
   ],
   "source": [
    "## Accessasing value with nested dictionary\n",
    "\n",
    "print(student[\"student1\"][\"name\"])\n",
    "print(student[\"student1\"][\"age\"])"
   ]
  },
  {
   "cell_type": "code",
   "execution_count": 31,
   "metadata": {},
   "outputs": [
    {
     "data": {
      "text/plain": [
       "dict_items([('student1', {'name': 'Arpan', 'age': 24}), ('student2', {'name': 'Abhik', 'age': 30})])"
      ]
     },
     "execution_count": 31,
     "metadata": {},
     "output_type": "execute_result"
    }
   ],
   "source": [
    "student.items()"
   ]
  },
  {
   "cell_type": "code",
   "execution_count": 32,
   "metadata": {},
   "outputs": [
    {
     "name": "stdout",
     "output_type": "stream",
     "text": [
      "{'a': 1, 'b': '2', 'c': 3, 'd': '4'}\n"
     ]
    }
   ],
   "source": [
    "## merge dictionary \n",
    "\n",
    "dir1= {\"a\":1,\"b\":\"2\"}\n",
    "dir2= {\"c\":3,\"d\":\"4\"}\n",
    "\n",
    "merge_dict={**dir1,**dir2}\n",
    "print(merge_dict)"
   ]
  },
  {
   "cell_type": "code",
   "execution_count": null,
   "metadata": {},
   "outputs": [],
   "source": []
  }
 ],
 "metadata": {
  "kernelspec": {
   "display_name": "venv",
   "language": "python",
   "name": "python3"
  },
  "language_info": {
   "codemirror_mode": {
    "name": "ipython",
    "version": 3
   },
   "file_extension": ".py",
   "mimetype": "text/x-python",
   "name": "python",
   "nbconvert_exporter": "python",
   "pygments_lexer": "ipython3",
   "version": "3.12.11"
  }
 },
 "nbformat": 4,
 "nbformat_minor": 2
}
